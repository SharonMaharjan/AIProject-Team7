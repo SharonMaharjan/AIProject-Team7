{
 "cells": [
  {
   "cell_type": "markdown",
   "metadata": {},
   "source": [
    "## Importing packages/modules"
   ]
  },
  {
   "cell_type": "code",
<<<<<<< HEAD
   "execution_count": 9,
=======
   "execution_count": 1,
>>>>>>> 1a69d5594e4dff6d01d7108a7921660a506a3d39
   "metadata": {},
   "outputs": [
    {
     "name": "stdout",
     "output_type": "stream",
     "text": [
      "Requirement already satisfied: selenium in c:\\users\\sya-r\\appdata\\local\\packages\\pythonsoftwarefoundation.python.3.11_qbz5n2kfra8p0\\localcache\\local-packages\\python311\\site-packages (4.15.2)\n",
      "Requirement already satisfied: urllib3[socks]<3,>=1.26 in c:\\users\\sya-r\\appdata\\local\\packages\\pythonsoftwarefoundation.python.3.11_qbz5n2kfra8p0\\localcache\\local-packages\\python311\\site-packages (from selenium) (2.0.7)\n",
      "Requirement already satisfied: trio~=0.17 in c:\\users\\sya-r\\appdata\\local\\packages\\pythonsoftwarefoundation.python.3.11_qbz5n2kfra8p0\\localcache\\local-packages\\python311\\site-packages (from selenium) (0.23.1)\n",
      "Requirement already satisfied: trio-websocket~=0.9 in c:\\users\\sya-r\\appdata\\local\\packages\\pythonsoftwarefoundation.python.3.11_qbz5n2kfra8p0\\localcache\\local-packages\\python311\\site-packages (from selenium) (0.11.1)\n",
      "Requirement already satisfied: certifi>=2021.10.8 in c:\\users\\sya-r\\appdata\\local\\packages\\pythonsoftwarefoundation.python.3.11_qbz5n2kfra8p0\\localcache\\local-packages\\python311\\site-packages (from selenium) (2023.7.22)\n",
      "Requirement already satisfied: attrs>=20.1.0 in c:\\users\\sya-r\\appdata\\local\\packages\\pythonsoftwarefoundation.python.3.11_qbz5n2kfra8p0\\localcache\\local-packages\\python311\\site-packages (from trio~=0.17->selenium) (23.1.0)\n",
      "Requirement already satisfied: sortedcontainers in c:\\users\\sya-r\\appdata\\local\\packages\\pythonsoftwarefoundation.python.3.11_qbz5n2kfra8p0\\localcache\\local-packages\\python311\\site-packages (from trio~=0.17->selenium) (2.4.0)\n",
      "Requirement already satisfied: idna in c:\\users\\sya-r\\appdata\\local\\packages\\pythonsoftwarefoundation.python.3.11_qbz5n2kfra8p0\\localcache\\local-packages\\python311\\site-packages (from trio~=0.17->selenium) (3.4)\n",
      "Requirement already satisfied: outcome in c:\\users\\sya-r\\appdata\\local\\packages\\pythonsoftwarefoundation.python.3.11_qbz5n2kfra8p0\\localcache\\local-packages\\python311\\site-packages (from trio~=0.17->selenium) (1.3.0.post0)\n",
      "Requirement already satisfied: sniffio>=1.3.0 in c:\\users\\sya-r\\appdata\\local\\packages\\pythonsoftwarefoundation.python.3.11_qbz5n2kfra8p0\\localcache\\local-packages\\python311\\site-packages (from trio~=0.17->selenium) (1.3.0)\n",
      "Requirement already satisfied: cffi>=1.14 in c:\\users\\sya-r\\appdata\\local\\packages\\pythonsoftwarefoundation.python.3.11_qbz5n2kfra8p0\\localcache\\local-packages\\python311\\site-packages (from trio~=0.17->selenium) (1.16.0)\n",
      "Requirement already satisfied: wsproto>=0.14 in c:\\users\\sya-r\\appdata\\local\\packages\\pythonsoftwarefoundation.python.3.11_qbz5n2kfra8p0\\localcache\\local-packages\\python311\\site-packages (from trio-websocket~=0.9->selenium) (1.2.0)\n",
      "Requirement already satisfied: pysocks!=1.5.7,<2.0,>=1.5.6 in c:\\users\\sya-r\\appdata\\local\\packages\\pythonsoftwarefoundation.python.3.11_qbz5n2kfra8p0\\localcache\\local-packages\\python311\\site-packages (from urllib3[socks]<3,>=1.26->selenium) (1.7.1)\n",
      "Requirement already satisfied: pycparser in c:\\users\\sya-r\\appdata\\local\\packages\\pythonsoftwarefoundation.python.3.11_qbz5n2kfra8p0\\localcache\\local-packages\\python311\\site-packages (from cffi>=1.14->trio~=0.17->selenium) (2.21)\n",
      "Requirement already satisfied: h11<1,>=0.9.0 in c:\\users\\sya-r\\appdata\\local\\packages\\pythonsoftwarefoundation.python.3.11_qbz5n2kfra8p0\\localcache\\local-packages\\python311\\site-packages (from wsproto>=0.14->trio-websocket~=0.9->selenium) (0.14.0)\n",
      "Note: you may need to restart the kernel to use updated packages.\n"
     ]
    },
    {
     "name": "stderr",
     "output_type": "stream",
     "text": [
      "\n",
      "[notice] A new release of pip is available: 23.2.1 -> 23.3.1\n",
      "[notice] To update, run: C:\\Users\\sya-r\\AppData\\Local\\Microsoft\\WindowsApps\\PythonSoftwareFoundation.Python.3.11_qbz5n2kfra8p0\\python.exe -m pip install --upgrade pip\n"
     ]
    },
    {
     "name": "stdout",
     "output_type": "stream",
     "text": [
      "Requirement already satisfied: requests in c:\\users\\sya-r\\appdata\\local\\packages\\pythonsoftwarefoundation.python.3.11_qbz5n2kfra8p0\\localcache\\local-packages\\python311\\site-packages (2.31.0)\n",
      "Requirement already satisfied: charset-normalizer<4,>=2 in c:\\users\\sya-r\\appdata\\local\\packages\\pythonsoftwarefoundation.python.3.11_qbz5n2kfra8p0\\localcache\\local-packages\\python311\\site-packages (from requests) (3.3.2)\n",
      "Requirement already satisfied: idna<4,>=2.5 in c:\\users\\sya-r\\appdata\\local\\packages\\pythonsoftwarefoundation.python.3.11_qbz5n2kfra8p0\\localcache\\local-packages\\python311\\site-packages (from requests) (3.4)\n",
      "Requirement already satisfied: urllib3<3,>=1.21.1 in c:\\users\\sya-r\\appdata\\local\\packages\\pythonsoftwarefoundation.python.3.11_qbz5n2kfra8p0\\localcache\\local-packages\\python311\\site-packages (from requests) (2.0.7)\n",
      "Requirement already satisfied: certifi>=2017.4.17 in c:\\users\\sya-r\\appdata\\local\\packages\\pythonsoftwarefoundation.python.3.11_qbz5n2kfra8p0\\localcache\\local-packages\\python311\\site-packages (from requests) (2023.7.22)\n",
      "Note: you may need to restart the kernel to use updated packages.\n"
     ]
    },
    {
     "name": "stderr",
     "output_type": "stream",
     "text": [
      "\n",
      "[notice] A new release of pip is available: 23.2.1 -> 23.3.1\n",
      "[notice] To update, run: C:\\Users\\sya-r\\AppData\\Local\\Microsoft\\WindowsApps\\PythonSoftwareFoundation.Python.3.11_qbz5n2kfra8p0\\python.exe -m pip install --upgrade pip\n"
     ]
    },
    {
     "name": "stdout",
     "output_type": "stream",
     "text": [
      "Collecting PillowNote: you may need to restart the kernel to use updated packages.\n",
      "\n",
      "  Obtaining dependency information for Pillow from https://files.pythonhosted.org/packages/b1/38/31def4109acd4db10672df6f806b175c0d21458f845ddc0890e43238ba7c/Pillow-10.1.0-cp311-cp311-win_amd64.whl.metadata\n",
      "  Downloading Pillow-10.1.0-cp311-cp311-win_amd64.whl.metadata (9.6 kB)\n",
      "Downloading Pillow-10.1.0-cp311-cp311-win_amd64.whl (2.6 MB)\n",
      "   ---------------------------------------- 0.0/2.6 MB ? eta -:--:--\n",
      "   ---------------------------------------- 0.0/2.6 MB ? eta -:--:--\n",
      "   ---------------------------------------- 0.0/2.6 MB 640.0 kB/s eta 0:00:05\n",
      "   - -------------------------------------- 0.1/2.6 MB 1.1 MB/s eta 0:00:03\n",
      "   -- ------------------------------------- 0.2/2.6 MB 1.2 MB/s eta 0:00:03\n",
      "   ----- ---------------------------------- 0.3/2.6 MB 1.7 MB/s eta 0:00:02\n",
      "   -------- ------------------------------- 0.5/2.6 MB 2.2 MB/s eta 0:00:01\n",
      "   -------- ------------------------------- 0.6/2.6 MB 2.4 MB/s eta 0:00:01\n",
      "   ----------- ---------------------------- 0.7/2.6 MB 2.3 MB/s eta 0:00:01\n",
      "   -------------- ------------------------- 0.9/2.6 MB 2.5 MB/s eta 0:00:01\n",
      "   -------------- ------------------------- 0.9/2.6 MB 2.2 MB/s eta 0:00:01\n",
      "   ----------------- ---------------------- 1.2/2.6 MB 2.6 MB/s eta 0:00:01\n",
      "   --------------------- ------------------ 1.4/2.6 MB 2.8 MB/s eta 0:00:01\n",
      "   -------------------------- ------------- 1.7/2.6 MB 3.1 MB/s eta 0:00:01\n",
      "   -------------------------- ------------- 1.7/2.6 MB 2.9 MB/s eta 0:00:01\n",
      "   ------------------------------ --------- 2.0/2.6 MB 3.1 MB/s eta 0:00:01\n",
      "   ---------------------------------- ----- 2.3/2.6 MB 3.3 MB/s eta 0:00:01\n",
      "   -------------------------------------- - 2.5/2.6 MB 3.5 MB/s eta 0:00:01\n",
      "   ---------------------------------------- 2.6/2.6 MB 3.3 MB/s eta 0:00:00\n",
      "Installing collected packages: Pillow\n",
      "Successfully installed Pillow-10.1.0\n"
     ]
    },
    {
     "name": "stderr",
     "output_type": "stream",
     "text": [
      "\n",
      "[notice] A new release of pip is available: 23.2.1 -> 23.3.1\n",
      "[notice] To update, run: C:\\Users\\sya-r\\AppData\\Local\\Microsoft\\WindowsApps\\PythonSoftwareFoundation.Python.3.11_qbz5n2kfra8p0\\python.exe -m pip install --upgrade pip\n"
     ]
    }
   ],
   "source": [
    "%pip install selenium\n",
    "%pip install requests\n",
    "%pip install Pillow\n"
   ]
  },
  {
   "cell_type": "code",
   "execution_count": 10,
   "metadata": {},
   "outputs": [
    {
     "ename": "ModuleNotFoundError",
     "evalue": "No module named 'matplotlib'",
     "output_type": "error",
     "traceback": [
      "\u001b[1;31m---------------------------------------------------------------------------\u001b[0m",
      "\u001b[1;31mModuleNotFoundError\u001b[0m                       Traceback (most recent call last)",
      "\u001b[1;32mc:\\AI\\AI Project\\AIProject-Team7\\Task_Deep_Learning.ipynb Cell 3\u001b[0m line \u001b[0;36m1\n\u001b[0;32m      <a href='vscode-notebook-cell:/c%3A/AI/AI%20Project/AIProject-Team7/Task_Deep_Learning.ipynb#W1sZmlsZQ%3D%3D?line=7'>8</a>\u001b[0m \u001b[39mfrom\u001b[39;00m \u001b[39mio\u001b[39;00m \u001b[39mimport\u001b[39;00m BytesIO\n\u001b[0;32m      <a href='vscode-notebook-cell:/c%3A/AI/AI%20Project/AIProject-Team7/Task_Deep_Learning.ipynb#W1sZmlsZQ%3D%3D?line=8'>9</a>\u001b[0m \u001b[39mimport\u001b[39;00m \u001b[39mos\u001b[39;00m\n\u001b[1;32m---> <a href='vscode-notebook-cell:/c%3A/AI/AI%20Project/AIProject-Team7/Task_Deep_Learning.ipynb#W1sZmlsZQ%3D%3D?line=9'>10</a>\u001b[0m \u001b[39mimport\u001b[39;00m \u001b[39mmatplotlib\u001b[39;00m\u001b[39m.\u001b[39;00m\u001b[39mpyplot\u001b[39;00m \u001b[39mas\u001b[39;00m \u001b[39mplt\u001b[39;00m\n\u001b[0;32m     <a href='vscode-notebook-cell:/c%3A/AI/AI%20Project/AIProject-Team7/Task_Deep_Learning.ipynb#W1sZmlsZQ%3D%3D?line=10'>11</a>\u001b[0m \u001b[39mimport\u001b[39;00m \u001b[39mzipfile\u001b[39;00m\n\u001b[0;32m     <a href='vscode-notebook-cell:/c%3A/AI/AI%20Project/AIProject-Team7/Task_Deep_Learning.ipynb#W1sZmlsZQ%3D%3D?line=12'>13</a>\u001b[0m \u001b[39mimport\u001b[39;00m \u001b[39mshutil\u001b[39;00m\n",
      "\u001b[1;31mModuleNotFoundError\u001b[0m: No module named 'matplotlib'"
     ]
    }
   ],
   "source": [
    "from selenium import webdriver\n",
    "import time\n",
    "from selenium.webdriver.common.by import By\n",
    "from selenium.webdriver.common.keys import Keys\n",
    "import requests\n",
    "import base64\n",
    "from PIL import Image\n",
    "from io import BytesIO\n",
    "import os\n",
    "import matplotlib.pyplot as plt\n",
    "import zipfile\n",
    "\n",
    "import shutil"
   ]
  },
  {
   "cell_type": "markdown",
   "metadata": {},
   "source": [
    "## Google images scraping"
   ]
  },
  {
   "cell_type": "code",
   "execution_count": 2,
   "metadata": {},
   "outputs": [
    {
     "ename": "WebDriverException",
     "evalue": "Message: 'chromedriver' executable needs to be in PATH. Please see https://chromedriver.chromium.org/home\n",
     "output_type": "error",
     "traceback": [
      "\u001b[1;31m---------------------------------------------------------------------------\u001b[0m",
      "\u001b[1;31mWebDriverException\u001b[0m                        Traceback (most recent call last)",
      "File \u001b[1;32m~\\AppData\\Local\\Packages\\PythonSoftwareFoundation.Python.3.10_qbz5n2kfra8p0\\LocalCache\\local-packages\\Python310\\site-packages\\selenium\\webdriver\\common\\service.py:97\u001b[0m, in \u001b[0;36mService.start\u001b[1;34m(self)\u001b[0m\n\u001b[0;32m     96\u001b[0m \u001b[39mtry\u001b[39;00m:\n\u001b[1;32m---> 97\u001b[0m     path \u001b[39m=\u001b[39m SeleniumManager\u001b[39m.\u001b[39;49mdriver_location(browser)\n\u001b[0;32m     98\u001b[0m \u001b[39mexcept\u001b[39;00m WebDriverException \u001b[39mas\u001b[39;00m new_err:\n",
      "File \u001b[1;32m~\\AppData\\Local\\Packages\\PythonSoftwareFoundation.Python.3.10_qbz5n2kfra8p0\\LocalCache\\local-packages\\Python310\\site-packages\\selenium\\webdriver\\common\\selenium_manager.py:68\u001b[0m, in \u001b[0;36mSeleniumManager.driver_location\u001b[1;34m(browser)\u001b[0m\n\u001b[0;32m     67\u001b[0m args \u001b[39m=\u001b[39m (\u001b[39mstr\u001b[39m(SeleniumManager\u001b[39m.\u001b[39mget_binary()), \u001b[39m\"\u001b[39m\u001b[39m--browser\u001b[39m\u001b[39m\"\u001b[39m, browser)\n\u001b[1;32m---> 68\u001b[0m result \u001b[39m=\u001b[39m SeleniumManager\u001b[39m.\u001b[39;49mrun(args)\n\u001b[0;32m     69\u001b[0m command \u001b[39m=\u001b[39m result\u001b[39m.\u001b[39msplit(\u001b[39m\"\u001b[39m\u001b[39m\\t\u001b[39;00m\u001b[39m\"\u001b[39m)[\u001b[39m-\u001b[39m\u001b[39m1\u001b[39m]\u001b[39m.\u001b[39mstrip()\n",
      "File \u001b[1;32m~\\AppData\\Local\\Packages\\PythonSoftwareFoundation.Python.3.10_qbz5n2kfra8p0\\LocalCache\\local-packages\\Python310\\site-packages\\selenium\\webdriver\\common\\selenium_manager.py:85\u001b[0m, in \u001b[0;36mSeleniumManager.run\u001b[1;34m(args)\u001b[0m\n\u001b[0;32m     84\u001b[0m \u001b[39mif\u001b[39;00m \u001b[39mnot\u001b[39;00m re\u001b[39m.\u001b[39mmatch(\u001b[39m\"\u001b[39m\u001b[39m^INFO\u001b[39m\u001b[39m\\t\u001b[39;00m\u001b[39m\"\u001b[39m, result):\n\u001b[1;32m---> 85\u001b[0m     \u001b[39mraise\u001b[39;00m WebDriverException(\u001b[39mf\u001b[39m\u001b[39m\"\u001b[39m\u001b[39mUnsuccessful command executed: \u001b[39m\u001b[39m{\u001b[39;00margs\u001b[39m}\u001b[39;00m\u001b[39m\"\u001b[39m)\n\u001b[0;32m     87\u001b[0m \u001b[39mreturn\u001b[39;00m result\n",
      "\u001b[1;31mWebDriverException\u001b[0m: Message: Unsuccessful command executed: ('C:\\\\Users\\\\appel\\\\AppData\\\\Local\\\\Packages\\\\PythonSoftwareFoundation.Python.3.10_qbz5n2kfra8p0\\\\LocalCache\\\\local-packages\\\\Python310\\\\site-packages\\\\selenium\\\\webdriver\\\\common\\\\windows\\\\selenium-manager.exe', '--browser', 'chrome')\n",
      "\nDuring handling of the above exception, another exception occurred:\n",
      "\u001b[1;31mWebDriverException\u001b[0m                        Traceback (most recent call last)",
      "\u001b[1;32mc:\\Users\\appel\\OneDrive\\Bureaublad\\school\\3AI\\Artificial_Intelligence\\Project\\AIProject-Team7\\Task_Deep_Learning.ipynb Cell 4\u001b[0m line \u001b[0;36m2\n\u001b[0;32m      <a href='vscode-notebook-cell:/c%3A/Users/appel/OneDrive/Bureaublad/school/3AI/Artificial_Intelligence/Project/AIProject-Team7/Task_Deep_Learning.ipynb#W3sZmlsZQ%3D%3D?line=0'>1</a>\u001b[0m \u001b[39m# Create a new instance of the Chrome driver\u001b[39;00m\n\u001b[1;32m----> <a href='vscode-notebook-cell:/c%3A/Users/appel/OneDrive/Bureaublad/school/3AI/Artificial_Intelligence/Project/AIProject-Team7/Task_Deep_Learning.ipynb#W3sZmlsZQ%3D%3D?line=1'>2</a>\u001b[0m driver \u001b[39m=\u001b[39m webdriver\u001b[39m.\u001b[39;49mChrome()\n\u001b[0;32m      <a href='vscode-notebook-cell:/c%3A/Users/appel/OneDrive/Bureaublad/school/3AI/Artificial_Intelligence/Project/AIProject-Team7/Task_Deep_Learning.ipynb#W3sZmlsZQ%3D%3D?line=3'>4</a>\u001b[0m \u001b[39m# Define the categories\u001b[39;00m\n\u001b[0;32m      <a href='vscode-notebook-cell:/c%3A/Users/appel/OneDrive/Bureaublad/school/3AI/Artificial_Intelligence/Project/AIProject-Team7/Task_Deep_Learning.ipynb#W3sZmlsZQ%3D%3D?line=4'>5</a>\u001b[0m categories \u001b[39m=\u001b[39m [\u001b[39m\"\u001b[39m\u001b[39mApis mellifera\u001b[39m\u001b[39m\"\u001b[39m]\n",
      "File \u001b[1;32m~\\AppData\\Local\\Packages\\PythonSoftwareFoundation.Python.3.10_qbz5n2kfra8p0\\LocalCache\\local-packages\\Python310\\site-packages\\selenium\\webdriver\\chrome\\webdriver.py:81\u001b[0m, in \u001b[0;36mWebDriver.__init__\u001b[1;34m(self, executable_path, port, options, service_args, desired_capabilities, service_log_path, chrome_options, service, keep_alive)\u001b[0m\n\u001b[0;32m     78\u001b[0m \u001b[39mif\u001b[39;00m \u001b[39mnot\u001b[39;00m service:\n\u001b[0;32m     79\u001b[0m     service \u001b[39m=\u001b[39m Service(executable_path, port, service_args, service_log_path)\n\u001b[1;32m---> 81\u001b[0m \u001b[39msuper\u001b[39;49m()\u001b[39m.\u001b[39;49m\u001b[39m__init__\u001b[39;49m(\n\u001b[0;32m     82\u001b[0m     DesiredCapabilities\u001b[39m.\u001b[39;49mCHROME[\u001b[39m\"\u001b[39;49m\u001b[39mbrowserName\u001b[39;49m\u001b[39m\"\u001b[39;49m],\n\u001b[0;32m     83\u001b[0m     \u001b[39m\"\u001b[39;49m\u001b[39mgoog\u001b[39;49m\u001b[39m\"\u001b[39;49m,\n\u001b[0;32m     84\u001b[0m     port,\n\u001b[0;32m     85\u001b[0m     options,\n\u001b[0;32m     86\u001b[0m     service_args,\n\u001b[0;32m     87\u001b[0m     desired_capabilities,\n\u001b[0;32m     88\u001b[0m     service_log_path,\n\u001b[0;32m     89\u001b[0m     service,\n\u001b[0;32m     90\u001b[0m     keep_alive,\n\u001b[0;32m     91\u001b[0m )\n",
      "File \u001b[1;32m~\\AppData\\Local\\Packages\\PythonSoftwareFoundation.Python.3.10_qbz5n2kfra8p0\\LocalCache\\local-packages\\Python310\\site-packages\\selenium\\webdriver\\chromium\\webdriver.py:103\u001b[0m, in \u001b[0;36mChromiumDriver.__init__\u001b[1;34m(self, browser_name, vendor_prefix, port, options, service_args, desired_capabilities, service_log_path, service, keep_alive)\u001b[0m\n\u001b[0;32m    100\u001b[0m     \u001b[39mraise\u001b[39;00m \u001b[39mAttributeError\u001b[39;00m(\u001b[39m\"\u001b[39m\u001b[39mservice cannot be None\u001b[39m\u001b[39m\"\u001b[39m)\n\u001b[0;32m    102\u001b[0m \u001b[39mself\u001b[39m\u001b[39m.\u001b[39mservice \u001b[39m=\u001b[39m service\n\u001b[1;32m--> 103\u001b[0m \u001b[39mself\u001b[39;49m\u001b[39m.\u001b[39;49mservice\u001b[39m.\u001b[39;49mstart()\n\u001b[0;32m    105\u001b[0m \u001b[39mtry\u001b[39;00m:\n\u001b[0;32m    106\u001b[0m     \u001b[39msuper\u001b[39m()\u001b[39m.\u001b[39m\u001b[39m__init__\u001b[39m(\n\u001b[0;32m    107\u001b[0m         command_executor\u001b[39m=\u001b[39mChromiumRemoteConnection(\n\u001b[0;32m    108\u001b[0m             remote_server_addr\u001b[39m=\u001b[39m\u001b[39mself\u001b[39m\u001b[39m.\u001b[39mservice\u001b[39m.\u001b[39mservice_url,\n\u001b[1;32m   (...)\u001b[0m\n\u001b[0;32m    114\u001b[0m         options\u001b[39m=\u001b[39moptions,\n\u001b[0;32m    115\u001b[0m     )\n",
      "File \u001b[1;32m~\\AppData\\Local\\Packages\\PythonSoftwareFoundation.Python.3.10_qbz5n2kfra8p0\\LocalCache\\local-packages\\Python310\\site-packages\\selenium\\webdriver\\common\\service.py:100\u001b[0m, in \u001b[0;36mService.start\u001b[1;34m(self)\u001b[0m\n\u001b[0;32m     98\u001b[0m         \u001b[39mexcept\u001b[39;00m WebDriverException \u001b[39mas\u001b[39;00m new_err:\n\u001b[0;32m     99\u001b[0m             logger\u001b[39m.\u001b[39mdebug(\u001b[39m\"\u001b[39m\u001b[39mUnable to obtain driver using Selenium Manager: \u001b[39m\u001b[39m\"\u001b[39m \u001b[39m+\u001b[39m new_err\u001b[39m.\u001b[39mmsg)\n\u001b[1;32m--> 100\u001b[0m             \u001b[39mraise\u001b[39;00m err\n\u001b[0;32m    102\u001b[0m         \u001b[39mself\u001b[39m\u001b[39m.\u001b[39m_start_process(path)\n\u001b[0;32m    104\u001b[0m count \u001b[39m=\u001b[39m \u001b[39m0\u001b[39m\n",
      "File \u001b[1;32m~\\AppData\\Local\\Packages\\PythonSoftwareFoundation.Python.3.10_qbz5n2kfra8p0\\LocalCache\\local-packages\\Python310\\site-packages\\selenium\\webdriver\\common\\service.py:91\u001b[0m, in \u001b[0;36mService.start\u001b[1;34m(self)\u001b[0m\n\u001b[0;32m     83\u001b[0m \u001b[39m\"\"\"\u001b[39;00m\n\u001b[0;32m     84\u001b[0m \u001b[39mStarts the Service.\u001b[39;00m\n\u001b[0;32m     85\u001b[0m \n\u001b[1;32m   (...)\u001b[0m\n\u001b[0;32m     88\u001b[0m \u001b[39m   or when it can't connect to the service\u001b[39;00m\n\u001b[0;32m     89\u001b[0m \u001b[39m\"\"\"\u001b[39;00m\n\u001b[0;32m     90\u001b[0m \u001b[39mtry\u001b[39;00m:\n\u001b[1;32m---> 91\u001b[0m     \u001b[39mself\u001b[39;49m\u001b[39m.\u001b[39;49m_start_process(\u001b[39mself\u001b[39;49m\u001b[39m.\u001b[39;49mpath)\n\u001b[0;32m     92\u001b[0m \u001b[39mexcept\u001b[39;00m WebDriverException \u001b[39mas\u001b[39;00m err:\n\u001b[0;32m     93\u001b[0m     \u001b[39mif\u001b[39;00m \u001b[39m\"\u001b[39m\u001b[39mexecutable needs to be in PATH\u001b[39m\u001b[39m\"\u001b[39m \u001b[39min\u001b[39;00m err\u001b[39m.\u001b[39mmsg:\n",
      "File \u001b[1;32m~\\AppData\\Local\\Packages\\PythonSoftwareFoundation.Python.3.10_qbz5n2kfra8p0\\LocalCache\\local-packages\\Python310\\site-packages\\selenium\\webdriver\\common\\service.py:203\u001b[0m, in \u001b[0;36mService._start_process\u001b[1;34m(self, path)\u001b[0m\n\u001b[0;32m    201\u001b[0m \u001b[39mexcept\u001b[39;00m \u001b[39mOSError\u001b[39;00m \u001b[39mas\u001b[39;00m err:\n\u001b[0;32m    202\u001b[0m     \u001b[39mif\u001b[39;00m err\u001b[39m.\u001b[39merrno \u001b[39m==\u001b[39m errno\u001b[39m.\u001b[39mENOENT:\n\u001b[1;32m--> 203\u001b[0m         \u001b[39mraise\u001b[39;00m WebDriverException(\n\u001b[0;32m    204\u001b[0m             \u001b[39mf\u001b[39m\u001b[39m\"\u001b[39m\u001b[39m'\u001b[39m\u001b[39m{\u001b[39;00mos\u001b[39m.\u001b[39mpath\u001b[39m.\u001b[39mbasename(\u001b[39mself\u001b[39m\u001b[39m.\u001b[39mpath)\u001b[39m}\u001b[39;00m\u001b[39m'\u001b[39m\u001b[39m executable needs to be in PATH. \u001b[39m\u001b[39m{\u001b[39;00m\u001b[39mself\u001b[39m\u001b[39m.\u001b[39mstart_error_message\u001b[39m}\u001b[39;00m\u001b[39m\"\u001b[39m\n\u001b[0;32m    205\u001b[0m         )\n\u001b[0;32m    206\u001b[0m     \u001b[39melif\u001b[39;00m err\u001b[39m.\u001b[39merrno \u001b[39m==\u001b[39m errno\u001b[39m.\u001b[39mEACCES:\n\u001b[0;32m    207\u001b[0m         \u001b[39mraise\u001b[39;00m WebDriverException(\n\u001b[0;32m    208\u001b[0m             \u001b[39mf\u001b[39m\u001b[39m\"\u001b[39m\u001b[39m'\u001b[39m\u001b[39m{\u001b[39;00mos\u001b[39m.\u001b[39mpath\u001b[39m.\u001b[39mbasename(\u001b[39mself\u001b[39m\u001b[39m.\u001b[39mpath)\u001b[39m}\u001b[39;00m\u001b[39m'\u001b[39m\u001b[39m executable may have wrong permissions. \u001b[39m\u001b[39m{\u001b[39;00m\u001b[39mself\u001b[39m\u001b[39m.\u001b[39mstart_error_message\u001b[39m}\u001b[39;00m\u001b[39m\"\u001b[39m\n\u001b[0;32m    209\u001b[0m         )\n",
      "\u001b[1;31mWebDriverException\u001b[0m: Message: 'chromedriver' executable needs to be in PATH. Please see https://chromedriver.chromium.org/home\n"
     ]
    }
   ],
   "source": [
    "# Create a new instance of the Chrome driver\n",
    "driver = webdriver.Chrome()\n",
    "\n",
    "# Define the categories\n",
    "categories = [\"Apis mellifera\"]\n",
    "driver.get(f\"https://www.google.com/imghp\")\n",
    "deny_button = driver.find_element(By.CSS_SELECTOR, \".QS5gu.sy4vM\")\n",
    "deny_button.click()\n",
    "\n",
    "# Scrape the first 200 images for each category\n",
    "for category in categories:\n",
    "    driver.get(f\"https://www.google.com/imghp\") # Google images\n",
    "    # Find the search bar and enter the search term\n",
    "    search_bar = driver.find_element(By.NAME, \"q\")\n",
    "    search_bar.send_keys(category)\n",
    "    search_bar.send_keys(Keys.RETURN)\n",
    "    driver.maximize_window()\n",
    "    time.sleep(3)\n",
    "    # Scroll down to load more images\n",
    "    image_container = driver.find_element(By.CLASS_NAME, \"mJxzWe\")\n",
    "\n",
    "    image_count = 0\n",
    "    image_urls = []\n",
    "    load_more_button = None\n",
    "    while image_count < 20:\n",
    "        driver.execute_script(\"window.scrollTo(0, document.body.scrollHeight);\")\n",
    "        load_more_button = None\n",
    "        try:\n",
    "            load_more_button = image_container.find_elements(By.CLASS_NAME, \"LZ4I\")[0]\n",
    "            if load_more_button != None:\n",
    "                load_more_button.click()\n",
    "                load_more_button = None\n",
    "        except:\n",
    "            pass\n",
    "\n",
    "        \n",
    "        time.sleep(3.5)\n",
    "        images = image_container.find_elements(By.CLASS_NAME, \"Q4LuWd\")\n",
    "        \n",
    "        for image in images:\n",
    "            # Wait for the image to load\n",
    "            while True:\n",
    "                if image.get_attribute(\"src\") != None:\n",
    "                    break\n",
    "                else:\n",
    "                    time.sleep(1)\n",
    "            image_url = image.get_attribute(\"src\")\n",
    "            if \"base64\" not in image_url and image != None:\n",
    "                image_urls.append(image_url)\n",
    "            if len(image_urls) == 20:\n",
    "                break  \n",
    "        image_count = len(image_urls)\n",
    "        print(image_count)\n",
    "\n",
    "    # Create a folder with category name and download the first 100 images inside it\n",
    "    folder_name = f\"./categories/{category}\"\n",
    "    os.makedirs(folder_name, exist_ok=True)\n",
    "    for i in range(20):\n",
    "            image_url = image_urls[i]\n",
    "            file_name = f\"{category}_{i+1}.jpg\"\n",
    "            file_path = os.path.join(folder_name, file_name)\n",
    "            file = open(file_path, \"wb\")\n",
    "            file.write(requests.get(image_url).content)\n",
    "            file.close()\n",
    "\n",
    "driver.quit()"
   ]
  },
  {
   "cell_type": "code",
   "execution_count": null,
   "metadata": {},
   "outputs": [
    {
     "data": {
      "text/plain": [
       "'c:\\\\Users\\\\appel\\\\OneDrive\\\\Bureaublad\\\\school\\\\3AI\\\\Artificial_Intelligence\\\\code\\\\AI\\\\Lessons\\\\11. DL - Introduction to Deep Learning\\\\datasets.zip'"
      ]
     },
     "metadata": {},
     "output_type": "display_data"
    }
   ],
   "source": [
    "shutil.make_archive('datasets', 'zip', './datasets/')\n"
   ]
  }
 ],
 "metadata": {
  "accelerator": "GPU",
  "colab": {
   "authorship_tag": "ABX9TyOL00iWsbKR3tJD1mDkcc/s",
   "gpuType": "T4",
   "mount_file_id": "1nZN_Lhf-L8jAKhlBzVyaSRo0DzyvHhDT",
   "provenance": []
  },
  "kernelspec": {
   "display_name": "Python 3 (ipykernel)",
   "language": "python",
   "name": "python3"
  },
  "language_info": {
   "codemirror_mode": {
    "name": "ipython",
    "version": 3
   },
   "file_extension": ".py",
   "mimetype": "text/x-python",
   "name": "python",
   "nbconvert_exporter": "python",
   "pygments_lexer": "ipython3",
<<<<<<< HEAD
   "version": "3.11.6"
=======
   "version": "3.10.11"
>>>>>>> 1a69d5594e4dff6d01d7108a7921660a506a3d39
  }
 },
 "nbformat": 4,
 "nbformat_minor": 4
}
